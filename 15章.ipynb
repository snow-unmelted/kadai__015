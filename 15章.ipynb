{
  "nbformat": 4,
  "nbformat_minor": 0,
  "metadata": {
    "colab": {
      "provenance": []
    },
    "kernelspec": {
      "name": "python3",
      "display_name": "Python 3"
    },
    "language_info": {
      "name": "python"
    }
  },
  "cells": [
    {
      "cell_type": "code",
      "execution_count": null,
      "metadata": {
        "colab": {
          "base_uri": "https://localhost:8080/"
        },
        "id": "-r2w1m-aYbXj",
        "outputId": "1cb94e24-6e7a-40be-f6a4-313c95c971b1"
      },
      "outputs": [
        {
          "output_type": "stream",
          "name": "stdout",
          "text": [
            "シャンプー\n"
          ]
        }
      ],
      "source": [
        "class product:\n",
        "  def __init__(self):\n",
        "    #属性を定義する\n",
        "    self.name = \"\"\n",
        "\n",
        "#メソッドを定義する\n",
        "  def set_name(self,name):\n",
        "    self.name = name\n",
        "\n",
        "shampoo = product()\n",
        "\n",
        "shampoo.set_name(\"シャンプー\")\n",
        "\n",
        "#属性にアクセスし、値を代入する\n",
        "shampoo.name = \"シャンプー\"\n",
        "\n",
        "#属性にアクセスし、値を出力する\n",
        "print(shampoo.name)"
      ]
    },
    {
      "cell_type": "code",
      "source": [
        "class User:\n",
        "  #コントラスタを定義する\n",
        "  def __init__(self,name,age,gender):\n",
        "    self.name = name\n",
        "    self.age = age\n",
        "    self.gender = gender\n",
        "\n",
        "  #メソッドを定義する\n",
        "  def set_name(self,name):\n",
        "    self.name = name\n",
        "\n",
        "  def show_name(self):\n",
        "    print(self.name)\n",
        "\n",
        "\n",
        "#インスタンス化する\n",
        "user = User(\"侍太郎\",36,\"男性\")\n",
        "\n",
        "#属性にアクセスし、値を出力する\n",
        "print(user.name)\n",
        "print(user.age)\n",
        "print(user.gender)"
      ],
      "metadata": {
        "colab": {
          "base_uri": "https://localhost:8080/"
        },
        "id": "DYn5mnMAh1w4",
        "outputId": "25f5c5ed-3cf0-4efc-ccd0-1607a9362878"
      },
      "execution_count": null,
      "outputs": [
        {
          "output_type": "stream",
          "name": "stdout",
          "text": [
            "侍太郎\n",
            "36\n",
            "男性\n"
          ]
        }
      ]
    },
    {
      "cell_type": "code",
      "source": [
        "class Human:\n",
        "  def __init__(self,name,age):\n",
        "    self.name=name\n",
        "    self.age=age\n",
        "\n",
        "  def printinfo(self):\n",
        "    print(self.name,self.age)\n",
        "\n",
        "myhuman = Human(\"侍小太郎\",21)\n",
        "\n",
        "myhuman.printinfo()\n"
      ],
      "metadata": {
        "colab": {
          "base_uri": "https://localhost:8080/"
        },
        "id": "WwAWUTDilhTC",
        "outputId": "62624ab9-bbcf-4bd0-fba8-520823dec197"
      },
      "execution_count": 1,
      "outputs": [
        {
          "output_type": "stream",
          "name": "stdout",
          "text": [
            "侍小太郎 21\n"
          ]
        }
      ]
    }
  ]
}